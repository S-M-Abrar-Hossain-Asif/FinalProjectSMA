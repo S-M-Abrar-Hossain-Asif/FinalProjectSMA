{
 "cells": [
  {
   "cell_type": "markdown",
   "id": "014dffc7",
   "metadata": {},
   "source": [
    "Name Entity Recognition by Abrar"
   ]
  },
  {
   "cell_type": "markdown",
   "id": "4508c9a1",
   "metadata": {},
   "source": [
    "Importing and installing pckages"
   ]
  },
  {
   "cell_type": "code",
   "execution_count": 36,
   "id": "0f45cadd",
   "metadata": {},
   "outputs": [
    {
     "name": "stdout",
     "output_type": "stream",
     "text": [
      "Requirement already satisfied: spacy in c:\\users\\asifa\\anaconda3\\lib\\site-packages (3.5.2)\n",
      "Requirement already satisfied: spacy-legacy<3.1.0,>=3.0.11 in c:\\users\\asifa\\anaconda3\\lib\\site-packages (from spacy) (3.0.12)\n",
      "Requirement already satisfied: packaging>=20.0 in c:\\users\\asifa\\anaconda3\\lib\\site-packages (from spacy) (22.0)\n",
      "Requirement already satisfied: catalogue<2.1.0,>=2.0.6 in c:\\users\\asifa\\anaconda3\\lib\\site-packages (from spacy) (2.0.8)\n",
      "Requirement already satisfied: thinc<8.2.0,>=8.1.8 in c:\\users\\asifa\\anaconda3\\lib\\site-packages (from spacy) (8.1.10)\n",
      "Requirement already satisfied: murmurhash<1.1.0,>=0.28.0 in c:\\users\\asifa\\anaconda3\\lib\\site-packages (from spacy) (1.0.9)\n",
      "Requirement already satisfied: srsly<3.0.0,>=2.4.3 in c:\\users\\asifa\\anaconda3\\lib\\site-packages (from spacy) (2.4.6)\n",
      "Requirement already satisfied: typer<0.8.0,>=0.3.0 in c:\\users\\asifa\\anaconda3\\lib\\site-packages (from spacy) (0.7.0)\n",
      "Requirement already satisfied: cymem<2.1.0,>=2.0.2 in c:\\users\\asifa\\anaconda3\\lib\\site-packages (from spacy) (2.0.7)\n",
      "Requirement already satisfied: requests<3.0.0,>=2.13.0 in c:\\users\\asifa\\anaconda3\\lib\\site-packages (from spacy) (2.26.0)\n",
      "Requirement already satisfied: pydantic!=1.8,!=1.8.1,<1.11.0,>=1.7.4 in c:\\users\\asifa\\anaconda3\\lib\\site-packages (from spacy) (1.9.2)\n",
      "Requirement already satisfied: jinja2 in c:\\users\\asifa\\anaconda3\\lib\\site-packages (from spacy) (2.11.3)\n",
      "Requirement already satisfied: pathy>=0.10.0 in c:\\users\\asifa\\anaconda3\\lib\\site-packages (from spacy) (0.10.1)\n",
      "Requirement already satisfied: langcodes<4.0.0,>=3.2.0 in c:\\users\\asifa\\anaconda3\\lib\\site-packages (from spacy) (3.3.0)\n",
      "Requirement already satisfied: smart-open<7.0.0,>=5.2.1 in c:\\users\\asifa\\anaconda3\\lib\\site-packages (from spacy) (6.3.0)\n",
      "Requirement already satisfied: setuptools in c:\\users\\asifa\\anaconda3\\lib\\site-packages (from spacy) (58.0.4)\n",
      "Requirement already satisfied: numpy>=1.15.0 in c:\\users\\asifa\\anaconda3\\lib\\site-packages (from spacy) (1.20.3)\n",
      "Requirement already satisfied: spacy-loggers<2.0.0,>=1.0.0 in c:\\users\\asifa\\anaconda3\\lib\\site-packages (from spacy) (1.0.4)\n",
      "Requirement already satisfied: preshed<3.1.0,>=3.0.2 in c:\\users\\asifa\\anaconda3\\lib\\site-packages (from spacy) (3.0.8)\n",
      "Requirement already satisfied: tqdm<5.0.0,>=4.38.0 in c:\\users\\asifa\\anaconda3\\lib\\site-packages (from spacy) (4.62.3)\n",
      "Requirement already satisfied: wasabi<1.2.0,>=0.9.1 in c:\\users\\asifa\\anaconda3\\lib\\site-packages (from spacy) (1.1.1)\n",
      "Requirement already satisfied: typing-extensions>=3.7.4.3 in c:\\users\\asifa\\anaconda3\\lib\\site-packages (from pydantic!=1.8,!=1.8.1,<1.11.0,>=1.7.4->spacy) (4.4.0)\n",
      "Requirement already satisfied: urllib3<1.27,>=1.21.1 in c:\\users\\asifa\\anaconda3\\lib\\site-packages (from requests<3.0.0,>=2.13.0->spacy) (1.26.7)\n",
      "Requirement already satisfied: certifi>=2017.4.17 in c:\\users\\asifa\\anaconda3\\lib\\site-packages (from requests<3.0.0,>=2.13.0->spacy) (2021.10.8)\n",
      "Requirement already satisfied: idna<4,>=2.5 in c:\\users\\asifa\\anaconda3\\lib\\site-packages (from requests<3.0.0,>=2.13.0->spacy) (3.2)\n",
      "Requirement already satisfied: charset-normalizer~=2.0.0 in c:\\users\\asifa\\anaconda3\\lib\\site-packages (from requests<3.0.0,>=2.13.0->spacy) (2.0.4)\n",
      "Requirement already satisfied: blis<0.8.0,>=0.7.8 in c:\\users\\asifa\\anaconda3\\lib\\site-packages (from thinc<8.2.0,>=8.1.8->spacy) (0.7.9)\n",
      "Requirement already satisfied: confection<1.0.0,>=0.0.1 in c:\\users\\asifa\\anaconda3\\lib\\site-packages (from thinc<8.2.0,>=8.1.8->spacy) (0.0.4)\n",
      "Requirement already satisfied: colorama in c:\\users\\asifa\\anaconda3\\lib\\site-packages (from tqdm<5.0.0,>=4.38.0->spacy) (0.4.6)\n",
      "Requirement already satisfied: click<9.0.0,>=7.1.1 in c:\\users\\asifa\\anaconda3\\lib\\site-packages (from typer<0.8.0,>=0.3.0->spacy) (8.0.3)\n",
      "Requirement already satisfied: MarkupSafe>=0.23 in c:\\users\\asifa\\anaconda3\\lib\\site-packages (from jinja2->spacy) (1.1.1)\n",
      "Collecting rake-nltk\n",
      "  Downloading rake_nltk-1.0.6-py3-none-any.whl (9.1 kB)\n",
      "Requirement already satisfied: nltk<4.0.0,>=3.6.2 in c:\\users\\asifa\\anaconda3\\lib\\site-packages (from rake-nltk) (3.6.5)\n",
      "Requirement already satisfied: click in c:\\users\\asifa\\anaconda3\\lib\\site-packages (from nltk<4.0.0,>=3.6.2->rake-nltk) (8.0.3)\n",
      "Requirement already satisfied: joblib in c:\\users\\asifa\\anaconda3\\lib\\site-packages (from nltk<4.0.0,>=3.6.2->rake-nltk) (1.1.0)\n",
      "Requirement already satisfied: regex>=2021.8.3 in c:\\users\\asifa\\anaconda3\\lib\\site-packages (from nltk<4.0.0,>=3.6.2->rake-nltk) (2021.8.3)\n",
      "Requirement already satisfied: tqdm in c:\\users\\asifa\\anaconda3\\lib\\site-packages (from nltk<4.0.0,>=3.6.2->rake-nltk) (4.62.3)\n",
      "Requirement already satisfied: colorama in c:\\users\\asifa\\anaconda3\\lib\\site-packages (from click->nltk<4.0.0,>=3.6.2->rake-nltk) (0.4.6)\n",
      "Installing collected packages: rake-nltk\n",
      "Successfully installed rake-nltk-1.0.6\n"
     ]
    },
    {
     "name": "stderr",
     "output_type": "stream",
     "text": [
      "[nltk_data] Downloading package stopwords to\n",
      "[nltk_data]     C:\\Users\\asifa\\AppData\\Roaming\\nltk_data...\n",
      "[nltk_data]   Package stopwords is already up-to-date!\n",
      "[nltk_data] Downloading package punkt to\n",
      "[nltk_data]     C:\\Users\\asifa\\AppData\\Roaming\\nltk_data...\n",
      "[nltk_data]   Package punkt is already up-to-date!\n"
     ]
    },
    {
     "name": "stdout",
     "output_type": "stream",
     "text": [
      "Collecting plotly\n",
      "  Downloading plotly-5.14.1-py2.py3-none-any.whl (15.3 MB)\n",
      "Requirement already satisfied: packaging in c:\\users\\asifa\\anaconda3\\lib\\site-packages (from plotly) (22.0)\n",
      "Collecting tenacity>=6.2.0\n",
      "  Downloading tenacity-8.2.2-py3-none-any.whl (24 kB)\n",
      "Installing collected packages: tenacity, plotly\n",
      "Successfully installed plotly-5.14.1 tenacity-8.2.2\n"
     ]
    }
   ],
   "source": [
    "# Import packages\n",
    "!pip install spacy\n",
    "!pip install rake-nltk\n",
    "\n",
    "# Import packages\n",
    "import csv\n",
    "import pandas as pd\n",
    "import numpy as np\n",
    "import nltk \n",
    "nltk.download('stopwords')\n",
    "nltk.download('punkt')\n",
    "from nltk.tokenize import word_tokenize\n",
    "from nltk.corpus import stopwords\n",
    "import re\n",
    "from nltk.stem.wordnet import WordNetLemmatizer\n",
    "from nltk.stem.porter import PorterStemmer\n",
    "from rake_nltk import Rake\n",
    "from sklearn.feature_extraction.text import CountVectorizer\n",
    "from bs4 import BeautifulSoup\n",
    "import spacy\n",
    "from spacy import displacy\n",
    "from collections import Counter\n",
    "!pip install plotly\n",
    "from plotly.offline import iplot\n",
    "import plotly.graph_objs as go\n",
    "import plotly.express as px"
   ]
  },
  {
   "cell_type": "markdown",
   "id": "928d71b7",
   "metadata": {},
   "source": [
    "Loading Data set"
   ]
  },
  {
   "cell_type": "code",
   "execution_count": 37,
   "id": "72bf4528",
   "metadata": {},
   "outputs": [],
   "source": [
    "# Load dataset\n",
    "dtypes = {'type':'category','subreddit':'category','score':'float64','title':'category','reviews':'category','author':'category'}\n",
    "ds= pd.read_excel(\"reddit_FINAL_v12.xlsx\", sheet_name=\"Sheet1\", engine='openpyxl', dtype=dtypes)\n"
   ]
  },
  {
   "cell_type": "code",
   "execution_count": null,
   "id": "17e6eed3",
   "metadata": {},
   "outputs": [],
   "source": []
  },
  {
   "cell_type": "code",
   "execution_count": 38,
   "id": "50471c9e",
   "metadata": {},
   "outputs": [
    {
     "name": "stdout",
     "output_type": "stream",
     "text": [
      "     key     type subreddit  \\\n",
      "0      0     post    iphone   \n",
      "1      1  comment    iphone   \n",
      "2      2  comment    iphone   \n",
      "3      3     post    iphone   \n",
      "4      4  comment    iphone   \n",
      "..   ...      ...       ...   \n",
      "777  777  comment    iphone   \n",
      "778  778  comment    iphone   \n",
      "779  779     post    iphone   \n",
      "780  780  comment    iphone   \n",
      "781  781  comment    iphone   \n",
      "\n",
      "                                                 title  \\\n",
      "0    Iphone 14 leather cases like andar brand but i...   \n",
      "1    Iphone 14 leather cases like andar brand but i...   \n",
      "2    Iphone 14 leather cases like andar brand but i...   \n",
      "3                     Why is my screen time incorrect?   \n",
      "4                     Why is my screen time incorrect?   \n",
      "..                                                 ...   \n",
      "777  What profit media markt has selling iPhone low...   \n",
      "778  What profit media markt has selling iPhone low...   \n",
      "779                            Text tone notifications   \n",
      "780                            Text tone notifications   \n",
      "781                            Text tone notifications   \n",
      "\n",
      "                                               reviews                author  \\\n",
      "0    Are there any? I don't wanna wait a month to r...      New-Analysis8054   \n",
      "1    Mujjo and Solo Pelle both make great leather c...         ShortOnCoffee   \n",
      "2               I use Mujjo. Another brand is Decoded.          uwGrootsheid   \n",
      "3     Barely used my phone today but it shows 3 hours.            tyler_ness   \n",
      "4    It shows your usage from your other devices li...             lovekorra   \n",
      "..                                                 ...                   ...   \n",
      "777  Thank you so much! I always when I walk in med...            Sucxces_93   \n",
      "778  I know what you are going to say I'm a stupid ...            Sucxces_93   \n",
      "779  I have an iPhone 14. I want to turn off the iM...  Impressive-Grape9181   \n",
      "780  You can’t change or remove the swoosh sound. Y...       travelerlifts07   \n",
      "781                            You can’t turn that off           coolaaron88   \n",
      "\n",
      "         date_published  score  \n",
      "0   2023-04-29 07:22:04    1.0  \n",
      "1   2023-04-29 07:52:29    1.0  \n",
      "2   2023-04-29 10:29:29    1.0  \n",
      "3   2023-04-28 21:07:35    1.0  \n",
      "4   2023-04-29 05:45:35    1.0  \n",
      "..                  ...    ...  \n",
      "777 2023-04-10 02:33:40    1.0  \n",
      "778 2023-04-09 21:33:48    0.0  \n",
      "779 2023-04-08 23:24:00    1.0  \n",
      "780 2023-04-09 00:19:03    2.0  \n",
      "781 2023-04-08 23:55:07    1.0  \n",
      "\n",
      "[782 rows x 8 columns]\n"
     ]
    }
   ],
   "source": [
    "# Defining Key\n",
    "ds.reset_index(inplace=True)\n",
    "ds.rename(columns={'index': 'key'}, inplace=True)\n",
    "print(ds)"
   ]
  },
  {
   "cell_type": "markdown",
   "id": "244bf9db",
   "metadata": {},
   "source": [
    "Functions"
   ]
  },
  {
   "cell_type": "code",
   "execution_count": 39,
   "id": "4741c72d",
   "metadata": {},
   "outputs": [],
   "source": [
    "# Text preprocessing\n",
    "def textPreProcess(rawText, removeHTML=True, charsToRemove = r'\\?|\\.|\\!|\\;|\\.|\\\"|\\,|\\(|\\)|\\&|\\:|\\-', removeNumbers=True, removeLineBreaks=False, specialCharsToRemove = r'[^\\x00-\\xfd]', convertToLower=True, removeConsecutiveSpaces=True):\n",
    "    if type(rawText) != str:\n",
    "        return rawText\n",
    "    procText = rawText\n",
    "        \n",
    "    # Remove HTML\n",
    "    if removeHTML:\n",
    "        procText = BeautifulSoup(procText,'html.parser').get_text()\n",
    "\n",
    "    # Remove punctuation and other special characters\n",
    "    if len(charsToRemove)>0:\n",
    "        procText = re.sub(charsToRemove,' ',procText)\n",
    "\n",
    "    # Remove numbers\n",
    "    if removeNumbers:\n",
    "        procText = re.sub(r'\\d+',' ',procText)\n",
    "\n",
    "    # Remove line breaks\n",
    "    if removeLineBreaks:\n",
    "        procText = procText.replace('\\n',' ').replace('\\r', '')\n",
    "\n",
    "    # Remove special characters\n",
    "    if len(specialCharsToRemove)>0:\n",
    "        procText = re.sub(specialCharsToRemove,' ',procText)\n",
    "\n",
    "    # Normalize to lower case\n",
    "    if convertToLower:\n",
    "        procText = procText.lower() \n",
    "\n",
    "    # Replace multiple consecutive spaces with just one space\n",
    "    if removeConsecutiveSpaces:\n",
    "        procText = re.sub(' +', ' ', procText)\n",
    "\n",
    "    return procText"
   ]
  },
  {
   "cell_type": "markdown",
   "id": "92346ade",
   "metadata": {},
   "source": [
    "Analysis"
   ]
  },
  {
   "cell_type": "code",
   "execution_count": 41,
   "id": "eb30d6da",
   "metadata": {},
   "outputs": [
    {
     "name": "stderr",
     "output_type": "stream",
     "text": [
      "C:\\Users\\asifa\\anaconda3\\lib\\site-packages\\bs4\\__init__.py:431: MarkupResemblesLocatorWarning:\n",
      "\n",
      "\"https://iaohi.com/products/aohi-magcube-65w-pd-fast-charger\" looks like a URL. Beautiful Soup is not an HTTP client. You should probably use an HTTP client like requests to get the document behind the URL, and feed that document to Beautiful Soup.\n",
      "\n",
      "C:\\Users\\asifa\\anaconda3\\lib\\site-packages\\bs4\\__init__.py:431: MarkupResemblesLocatorWarning:\n",
      "\n",
      "\"https://preview.redd.it/yqvdvjj1r8wa1.jpeg?width=640&format=pjpg&auto=webp&v=enabled&s=10f145dc1c4c69eb3b08c6716b4ab2676564fe19\" looks like a URL. Beautiful Soup is not an HTTP client. You should probably use an HTTP client like requests to get the document behind the URL, and feed that document to Beautiful Soup.\n",
      "\n"
     ]
    }
   ],
   "source": [
    "# Create a dataframe with only the description\n",
    "processedReviews = pd.DataFrame(data=ds.reviews.apply(textPreProcess,charsToRemove ='', removeLineBreaks=False, removeNumbers=False).values, index=ds.index, columns=['PreProcessedText'])"
   ]
  },
  {
   "cell_type": "code",
   "execution_count": 42,
   "id": "34fd8670",
   "metadata": {},
   "outputs": [],
   "source": [
    "# Remove rows with empty text\n",
    "processedReviews.PreProcessedText = processedReviews.PreProcessedText.str.strip()\n",
    "processedReviews = processedReviews[processedReviews.PreProcessedText != '']"
   ]
  },
  {
   "cell_type": "code",
   "execution_count": 43,
   "id": "98b07590",
   "metadata": {},
   "outputs": [],
   "source": [
    "# Load Spacy English model\n",
    "nlp = spacy.load(\"en_core_web_sm\")"
   ]
  },
  {
   "cell_type": "code",
   "execution_count": 44,
   "id": "8846bc42",
   "metadata": {},
   "outputs": [
    {
     "name": "stdout",
     "output_type": "stream",
     "text": [
      "i got this phone months ago and i have dropped a few times (well more than a few times but i can t remember) but now my phone wants to go into sos only alot and i don t know why. it never has before.\n",
      "[('this phone months ago', 'DATE')]\n"
     ]
    }
   ],
   "source": [
    "# Check entities in review \n",
    "print(processedReviews.at[5, 'PreProcessedText'])\n",
    "doc = nlp(processedReviews.at[5, 'PreProcessedText'])\n",
    "print([(X.text, X.label_) for X in doc.ents])"
   ]
  },
  {
   "cell_type": "code",
   "execution_count": 45,
   "id": "b684bb11",
   "metadata": {},
   "outputs": [
    {
     "name": "stdout",
     "output_type": "stream",
     "text": [
      "exactly... he got downvoted into oblivion when he had a valid point. \n",
      "\n",
      "if you do not have perfect signal the photos can take an eternity to load. you go to show someone a photo just to stare at a blurry mess for what seems like anywhere from 20-30 seconds\n",
      "\n",
      "when signal is perfect the loading is annoying but negligible. \n",
      "\n",
      "so yes... if you prefer to have photos with original quality directly on your device to streamline viewing without loading times then do not do this lol\n",
      "[('20-30 seconds', 'TIME')]\n"
     ]
    }
   ],
   "source": [
    "# Check entities in review \n",
    "print(processedReviews.at[305, 'PreProcessedText'])\n",
    "doc = nlp(processedReviews.at[305, 'PreProcessedText'])\n",
    "print([(X.text, X.label_) for X in doc.ents])"
   ]
  },
  {
   "cell_type": "code",
   "execution_count": 46,
   "id": "16f69cd5",
   "metadata": {},
   "outputs": [
    {
     "name": "stdout",
     "output_type": "stream",
     "text": [
      "i recently bought iphone 14, and am about to buy a screen protector. from the reviews i can find online, spigen is the top-rated one.\n",
      "\n",
      "do you have this screen protector and would you recommend it? or is there any other you would recommend instead?\n",
      "\n",
      "is this screen protector (or any other you'd recommend) compatible with apple's leather case?\n",
      "[('14', 'CARDINAL')]\n"
     ]
    }
   ],
   "source": [
    "# Check entities in review \n",
    "print(processedReviews.at[350, 'PreProcessedText'])\n",
    "doc = nlp(processedReviews.at[350, 'PreProcessedText'])\n",
    "print([(X.text, X.label_) for X in doc.ents])"
   ]
  },
  {
   "cell_type": "code",
   "execution_count": 47,
   "id": "e50fd945",
   "metadata": {},
   "outputs": [
    {
     "data": {
      "text/plain": [
       "Counter({'CARDINAL': 1})"
      ]
     },
     "execution_count": 47,
     "metadata": {},
     "output_type": "execute_result"
    }
   ],
   "source": [
    "# Count the labels\n",
    "labels = [x.label_ for x in doc.ents]\n",
    "Counter(labels)"
   ]
  },
  {
   "cell_type": "code",
   "execution_count": 48,
   "id": "679a71e3",
   "metadata": {},
   "outputs": [
    {
     "data": {
      "text/plain": [
       "[('14', 1)]"
      ]
     },
     "execution_count": 48,
     "metadata": {},
     "output_type": "execute_result"
    }
   ],
   "source": [
    "# Show top 3 labels\n",
    "top_labels = [x.text for x in doc.ents]\n",
    "Counter(top_labels).most_common(3)"
   ]
  },
  {
   "cell_type": "code",
   "execution_count": 49,
   "id": "f1b4e1ad",
   "metadata": {},
   "outputs": [
    {
     "data": {
      "text/html": [
       "<span class=\"tex2jax_ignore\"><div class=\"entities\" style=\"line-height: 2.5; direction: ltr\">i recently bought iphone \n",
       "<mark class=\"entity\" style=\"background: #e4e7d2; padding: 0.45em 0.6em; margin: 0 0.25em; line-height: 1; border-radius: 0.35em;\">\n",
       "    14\n",
       "    <span style=\"font-size: 0.8em; font-weight: bold; line-height: 1; border-radius: 0.35em; vertical-align: middle; margin-left: 0.5rem\">CARDINAL</span>\n",
       "</mark>\n",
       ", and am about to buy a screen protector. from the reviews i can find online, spigen is the top-rated one.</br></br>do you have this screen protector and would you recommend it? or is there any other you would recommend instead?</br></br>is this screen protector (or any other you'd recommend) compatible with apple's leather case?</div></span>"
      ],
      "text/plain": [
       "<IPython.core.display.HTML object>"
      ]
     },
     "metadata": {},
     "output_type": "display_data"
    }
   ],
   "source": [
    "# Entities visualization\n",
    "displacy.render(doc, jupyter=True, style='ent')"
   ]
  },
  {
   "cell_type": "code",
   "execution_count": 50,
   "id": "cb0cb8c5",
   "metadata": {},
   "outputs": [
    {
     "data": {
      "text/plain": [
       "['hold up people, my words below are subjective, you may have different opinions but my version is still worthy of your attention.\\n\\nok so you ve gone through my iphone journey in the title. i am currently using iphone se 2022 as my daily driver.\\n\\nyou may say that poor camera, small screen, smaller battery and what not. \\n\\nfor the camera, i am not a camera person and regarding the other two, they ve actually become a plus point for me. i never thought i would love it as much as i do now.\\n\\nthe screen size is so frikkin manageable, fits in the palm, single handed operation all day everyday. nostalgia hits hard and it is super comfortable in the hand. a decent back cover to complement the look and you re rocking a15 bionic perfect size beast. holding 14 series after se 22 feels bulky and tbh, i don t wanna go back anytime soon.\\n\\ncoming to smaller battery: previously with the bigger battery, i used to consume it all by the end of the day. would be using it for fun and games and videos and what not in the free time. wrecked my sleeping habit. now with a smaller battery, i only use it for main things, calls, whatsapp, email, reddit etc and it easily lasts me a day. \\n\\nscreen time reduced drastically..!! this helped me reflect over my life and how wasteful i was. with less screen time, there is more me time and this is helping me be more productive. ngl, feels good.\\n\\nyou won t believe that i am rocking a 64gb variant in this day and age. and almost half of the storage is free. whoa..!! ikr\\n\\nwait wait wait, i forgot about the home button, how could i dammit..!! it s better than face id. there, i said it. i love it, i missed it. \\n\\nto those very few of you wondering if it is worth switching, just kidding. i know none of you are. \\n\\nbut hey, it s fun to be back, fun to have more control over my life, free from social media (most of it) sickness.',\n",
       " 'how s the battery life on the 22? i m a power user and had it rough on a se 2020.',\n",
       " \"thinking if it's worth or not to get applecare+ for my iphone 14, also i was wondering what does it exactly offer?\"]"
      ]
     },
     "execution_count": 50,
     "metadata": {},
     "output_type": "execute_result"
    }
   ],
   "source": [
    "# For example, if our objective was understand what customers say about the Iphone 14 cardinal we could look for reviews that mention 14 cardinal\n",
    "counter=0   # to stop after x for demostration speed\n",
    "annReviews=[]\n",
    "for r in processedReviews['PreProcessedText']:\n",
    "  doc = nlp(r)\n",
    "  for i in doc.ents:\n",
    "      if i.label_=='CARDINAL':\n",
    "          annReviews.append(r)\n",
    "          counter = counter + 1\n",
    "          break\n",
    "  if counter>=3:    # Stop after the first three reviews have been found\n",
    "      break\n",
    "\n",
    "annReviews"
   ]
  },
  {
   "cell_type": "code",
   "execution_count": null,
   "id": "3ad72245",
   "metadata": {},
   "outputs": [],
   "source": []
  }
 ],
 "metadata": {
  "kernelspec": {
   "display_name": "Python 3 (ipykernel)",
   "language": "python",
   "name": "python3"
  },
  "language_info": {
   "codemirror_mode": {
    "name": "ipython",
    "version": 3
   },
   "file_extension": ".py",
   "mimetype": "text/x-python",
   "name": "python",
   "nbconvert_exporter": "python",
   "pygments_lexer": "ipython3",
   "version": "3.9.7"
  }
 },
 "nbformat": 4,
 "nbformat_minor": 5
}
